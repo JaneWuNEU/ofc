{
 "cells": [
  {
   "cell_type": "code",
   "execution_count": null,
   "metadata": {
    "pycharm": {
     "name": "#%%\n"
    }
   },
   "outputs": [],
   "source": [
    "import matplotlib.pyplot as plt\n",
    "import matplotlib.ticker as pltticker\n",
    "import numpy as np\n",
    "import pandas as pd\n",
    "import os\n",
    "\n",
    "%matplotlib inline\n",
    "\n",
    "plt.rcParams.update({\n",
    "    'font.family': 'serif',\n",
    "    'font.size': 6,\n",
    "    'axes.titlesize': 6,\n",
    "    'legend.fontsize': 6,\n",
    "    'legend.title_fontsize': 6,\n",
    "})"
   ]
  },
  {
   "cell_type": "code",
   "execution_count": null,
   "metadata": {
    "pycharm": {
     "name": "#%%\n"
    }
   },
   "outputs": [],
   "source": [
    "# Used to \"convert\" between number of clusters and cluster size\n",
    "MEMORY_RANGE = 2048\n",
    "\n",
    "# Prepare output directory\n",
    "os.makedirs('figures', exist_ok=True)"
   ]
  },
  {
   "cell_type": "markdown",
   "metadata": {
    "pycharm": {
     "name": "#%% md\n"
    }
   },
   "source": [
    "# Figures about ML evaluation (fig.4 & fig.5)"
   ]
  },
  {
   "cell_type": "markdown",
   "metadata": {
    "pycharm": {
     "name": "#%% md\n"
    }
   },
   "source": [
    "## Comparison of ML algorithms and cluster sizes"
   ]
  },
  {
   "cell_type": "code",
   "execution_count": null,
   "metadata": {
    "pycharm": {
     "name": "#%%\n"
    },
    "scrolled": true
   },
   "outputs": [],
   "source": [
    "data = pd.read_csv('results/memory/models_accuracy/audio.csv', sep=';')\n",
    "\n",
    "# in the raw file for results about image functions, function IDs start at 1 again, so I need to shift them to avoid conflicts with audio functions\n",
    "function_id_shift = data['function_id'].max()\n",
    "\n",
    "data_image = pd.read_csv('results/memory/models_accuracy/image.csv', sep=';')\n",
    "data_image['function_id'] = data_image['function_id'].apply(lambda func_id: func_id + function_id_shift)\n",
    "data = data.append(data_image, ignore_index=True)\n",
    "\n",
    "# in the raw file for results about video functions, function IDs start at *2*, so I need to shift them to avoid conflicts with audio and image functions\n",
    "# -1 because IDs start at 2 in the video file\n",
    "function_id_shift = data['function_id'].max() - 1\n",
    "\n",
    "data_video = pd.read_csv('results/memory/models_accuracy/video.csv', sep=';')\n",
    "data_video['function_id'] = data_video['function_id'].apply(lambda func_id: func_id + function_id_shift)\n",
    "data_video['pred_exact'] = data_video['pred_exact'].apply(lambda p: 100 * p)\n",
    "data_video['pred_above'] = data_video['pred_above'].apply(lambda p: 100 * p)\n",
    "\n",
    "data = data.append(data_video, ignore_index=True)\n",
    "\n",
    "data['cluster_size'] = MEMORY_RANGE / data['clusters']\n",
    "del data['clusters']\n",
    "\n",
    "data = data.set_index('cluster_size')\n",
    "data = data.set_index('algorithm', append=True)\n",
    "data = data.sort_index(level=[0,1], ascending=[False, True])"
   ]
  },
  {
   "cell_type": "code",
   "execution_count": null,
   "metadata": {
    "pycharm": {
     "name": "#%%\n"
    }
   },
   "outputs": [],
   "source": [
    "data_result_ml = data.groupby(level=[0,1]).mean().sort_index(level=[0,1], ascending=[False,True])\n",
    "del data_result_ml['function_id']\n",
    "\n",
    "print(data_result_ml)"
   ]
  },
  {
   "cell_type": "markdown",
   "metadata": {
    "pycharm": {
     "name": "#%% md\n"
    }
   },
   "source": [
    "## Maturation quickness"
   ]
  },
  {
   "cell_type": "code",
   "execution_count": null,
   "metadata": {
    "pycharm": {
     "name": "#%%\n"
    }
   },
   "outputs": [],
   "source": [
    "data = pd.read_csv('results/memory/maturation/audio.csv', sep=';', usecols=['function_id', 'runs', 'pred_above', 'pred_1under_error'], na_values='None')\n",
    "\n",
    "# in the raw file for results about image functions, function IDs start at 1 again, so I need to shift them to avoid conflicts with audio functions\n",
    "function_id_shift = data['function_id'].max()\n",
    "\n",
    "data_image = pd.read_csv('results/memory/maturation/image.csv', sep=';', usecols=['function_id', 'runs', 'pred_above', 'pred_1under_error'], na_values='None')\n",
    "data_image['function_id'] = data_image['function_id'].apply(lambda func_id: func_id + function_id_shift)\n",
    "\n",
    "data = data.append(data_image, ignore_index=True)\n",
    "\n",
    "# in the raw file for results about image functions, function IDs start at 1 again, so I need to shift them to avoid conflicts with audio functions\n",
    "# -1 because IDs start at 2 in the video file\n",
    "function_id_shift = data['function_id'].max() - 1\n",
    "\n",
    "data_video = pd.read_csv('results/memory/maturation/video.csv', sep=';', usecols=['function_id', 'runs', 'pred_above', 'pred_1under_error'], na_values='None')\n",
    "data_video['function_id'] = data_video['function_id'].apply(lambda func_id: func_id + function_id_shift)\n",
    "\n",
    "data = data.append(data_video, ignore_index=True)"
   ]
  },
  {
   "cell_type": "code",
   "execution_count": null,
   "metadata": {
    "pycharm": {
     "name": "#%%\n"
    },
    "scrolled": true
   },
   "outputs": [],
   "source": [
    "MATURITY_MINIMUM_RUNS = 100\n",
    "MATURITY_ABOVEPREDICTIONS = 90\n",
    "MATURITY_MINUS1_UNDERPREDICTIONS = 50\n",
    "\n",
    "maturation_quickness = data[\n",
    "          (data['runs'] >= MATURITY_MINIMUM_RUNS) &\n",
    "          (data['pred_above'] >= MATURITY_ABOVEPREDICTIONS) &\n",
    "          ((data['pred_1under_error'] >= MATURITY_MINUS1_UNDERPREDICTIONS) | data['pred_1under_error'].isna())\n",
    "]\n",
    "maturation_quickness = maturation_quickness.loc[maturation_quickness.groupby('function_id')['runs'].idxmin()].set_index('function_id').sort_index()\n",
    "\n",
    "print(maturation_quickness)\n",
    "\n",
    "print(f'Maturation quickness: average = {maturation_quickness.runs.mean()}, minimum = {maturation_quickness.runs.min()}, maximum = {maturation_quickness.runs.max()}')\n",
    "print(f'10% = {maturation_quickness.runs.quantile(0.1)}, 50% = {maturation_quickness.runs.quantile(0.5)}, 75% = {maturation_quickness.runs.quantile(0.75)}, 90% = {maturation_quickness.runs.quantile(0.9)}, 95% = {maturation_quickness.runs.quantile(0.95)}')\n",
    "print(f'Maturation quickness: {len(maturation_quickness[maturation_quickness.runs == 100])} functions matured in 100 runs or less (which is a fixed minimum).')"
   ]
  },
  {
   "cell_type": "markdown",
   "metadata": {
    "pycharm": {
     "name": "#%% md\n"
    }
   },
   "source": [
    "## Prediction time"
   ]
  },
  {
   "cell_type": "code",
   "execution_count": null,
   "metadata": {
    "pycharm": {
     "name": "#%%\n"
    }
   },
   "outputs": [],
   "source": [
    "data_dict = {\n",
    "    'function_id': [],\n",
    "    'cluster_size': [],\n",
    "    'time': [],\n",
    "}\n",
    "\n",
    "with open('results/memory/prediction_speed/audio.txt', 'r') as infile:\n",
    "    for header, dataline in zip(infile, infile):\n",
    "        function_id, nb_clusters = (int(e) for e in header.rstrip().split(';')[1:])\n",
    "        cluster_size = MEMORY_RANGE / nb_clusters\n",
    "        # remove trailing newline and trailing comma\n",
    "        times = [float(e) for e in dataline.rstrip().rstrip(',').split(', ')]\n",
    "\n",
    "        data_dict['function_id'].extend([function_id] * len(times))\n",
    "        data_dict['cluster_size'].extend([cluster_size] * len(times))\n",
    "        data_dict['time'].extend(times)\n",
    "\n",
    "# in the raw file for results about image functions, function IDs start at 1 again, so I need to shift them to avoid conflicts with audio functions\n",
    "function_id_shift = max(data_dict['function_id'])\n",
    "with open('results/memory/prediction_speed/image.txt', 'r') as infile:\n",
    "    for header, dataline in zip(infile, infile):\n",
    "        function_id, nb_clusters = (int(e) for e in header.rstrip().split(';')[1:])\n",
    "        cluster_size = MEMORY_RANGE / nb_clusters\n",
    "        # remove trailing newline and trailing comma\n",
    "        times = [float(e) for e in dataline.rstrip().rstrip(',').split(', ')]\n",
    "\n",
    "        data_dict['function_id'].extend([function_id + function_id_shift] * len(times))\n",
    "        data_dict['cluster_size'].extend([cluster_size] * len(times))\n",
    "        data_dict['time'].extend(times)\n",
    "\n",
    "# in the raw file for results about image functions, function IDs start at 1 again, so I need to shift them to avoid conflicts with audio functions\n",
    "# -1 because IDs start at 2 in the video file\n",
    "function_id_shift = max(data_dict['function_id']) - 1\n",
    "with open('results/memory/prediction_speed/video.txt', 'r') as infile:\n",
    "    for header, dataline in zip(infile, infile):\n",
    "        function_id, nb_clusters = (int(e) for e in header.rstrip().split(';')[1:])\n",
    "        cluster_size = MEMORY_RANGE / nb_clusters\n",
    "        # remove trailing newline and trailing comma\n",
    "        times = [float(e) for e in dataline.rstrip().rstrip(',').split(', ')]\n",
    "\n",
    "        data_dict['function_id'].extend([function_id + function_id_shift] * len(times))\n",
    "        data_dict['cluster_size'].extend([cluster_size] * len(times))\n",
    "        data_dict['time'].extend(times)\n",
    "\n",
    "data = pd.DataFrame(data_dict)"
   ]
  },
  {
   "cell_type": "code",
   "execution_count": null,
   "metadata": {
    "pycharm": {
     "name": "#%%\n"
    }
   },
   "outputs": [],
   "source": [
    "fig, axes = plt.subplots(figsize=((7 - 0.33) / 2 / 2 - 0.05, 1))\n",
    "\n",
    "axes.set_title('Distribution of times (%)')\n",
    "axes.set_xlabel('Prediction times (µs)', labelpad=0)\n",
    "\n",
    "for cluster_size, cluster_data in data.groupby('cluster_size'):\n",
    "    # note that we eliminate the 1% max (very outlier values) for visualization\n",
    "    data_sorted = pd.Series(cluster_data['time']).sort_values()[:-int(0.01*len(cluster_data['time']))]\n",
    "    cdf = pd.Series(np.linspace(0., 1., len(data_sorted)), index=data_sorted)\n",
    "    axes.plot(cdf, label=f'{cluster_size:.0f}MB')\n",
    "\n",
    "    print(f'{cluster_size:.0f}MB clusters: median = {data_sorted.median()}, 99% = {data_sorted.quantile(0.99)}')\n",
    "\n",
    "axes.grid(True, axis='both')\n",
    "\n",
    "axes.set_yticks([0.1, 0.25, 0.5, 0.75, 0.9, 1.0])\n",
    "axes.yaxis.set_major_formatter(pltticker.FuncFormatter(lambda y, pos: int(y * 100)))\n",
    "\n",
    "axes.xaxis.set_major_locator(pltticker.MultipleLocator(10000))\n",
    "axes.xaxis.set_major_formatter(pltticker.FuncFormatter(lambda x, pos: x / 1000))\n",
    "\n",
    "plt.setp(axes.get_yticklabels(), position=(0.04,0))\n",
    "\n",
    "axes.legend(title='Interval size')\n",
    "\n",
    "fig.savefig('figures/prediction_speed.pdf', bbox_inches='tight', pad_inches=0)"
   ]
  },
  {
   "cell_type": "markdown",
   "metadata": {
    "pycharm": {
     "name": "#%% md\n"
    }
   },
   "source": [
    "## Prediction errors"
   ]
  },
  {
   "cell_type": "code",
   "execution_count": null,
   "metadata": {
    "pycharm": {
     "name": "#%%\n"
    }
   },
   "outputs": [],
   "source": [
    "data = pd.read_csv('results/memory/predictions/audio.csv', sep=';', usecols=['algorithm', 'function_id', 'clusters', 'truth', 'prediction'])\n",
    "\n",
    "# in the raw file for results about image functions, function IDs start at 1 again, so I need to shift them to avoid conflicts with audio functions\n",
    "function_id_shift = data['function_id'].max()\n",
    "\n",
    "data_image = pd.read_csv('results/memory/predictions/image.csv', sep=';', usecols=['algorithm', 'function_id', 'clusters', 'truth', 'prediction'])\n",
    "data_image['function_id'] = data_image['function_id'].apply(lambda func_id: func_id + function_id_shift)\n",
    "data = data.append(data_image, ignore_index=True)\n",
    "\n",
    "# in the raw file for results about video functions, function IDs start at *2*, so I need to shift them to avoid conflicts with audio and image functions\n",
    "# -1 because IDs start at 2 in the video file\n",
    "function_id_shift = data['function_id'].max() - 1\n",
    "\n",
    "data_video = pd.read_csv('results/memory/predictions/video.csv', sep=';', usecols=['algorithm', 'function_id', 'clusters', 'truth', 'prediction'])\n",
    "data_video['function_id'] = data_video['function_id'].apply(lambda func_id: func_id + function_id_shift)\n",
    "data = data.append(data_video, ignore_index=True)\n",
    "\n",
    "data = data.loc[data['algorithm'] == 'J48']\n",
    "del data['algorithm']\n",
    "\n",
    "data['cluster_size'] = MEMORY_RANGE / data['clusters']\n",
    "del data['clusters']\n",
    "data['error'] = data['prediction'] - data['truth']\n",
    "del data['truth']\n",
    "del data['prediction']"
   ]
  },
  {
   "cell_type": "code",
   "execution_count": null,
   "metadata": {
    "pycharm": {
     "name": "#%%\n"
    }
   },
   "outputs": [],
   "source": [
    "fig, axes = plt.subplots(figsize=((7 - 0.33) / 2 / 2 - 0.05, 1))\n",
    "\n",
    "axes.set_title('Distribution of errors')\n",
    "axes.set_xlabel('Difference to truth (MB)', labelpad=0)\n",
    "axes.set_ylabel('Predictions (log)', labelpad=0)\n",
    "\n",
    "data_16MB = data[data['cluster_size'] == 16.0]\n",
    "\n",
    "axes.set_xlim(left=-15, right=15)\n",
    "\n",
    "axes.hist(data_16MB['error'],\n",
    "          bins=data_16MB['error'].max() - data_16MB['error'].min() + 1)\n",
    "\n",
    "axes.set_yscale('log')\n",
    "axes.grid(True, axis='y')\n",
    "\n",
    "axes.xaxis.set_major_locator(pltticker.MultipleLocator(8))\n",
    "axes.xaxis.set_major_formatter(pltticker.FuncFormatter(lambda x, pos: int(x * 16)))\n",
    "# I don't know how to use numticks, but this produces the result I want\n",
    "axes.yaxis.set_major_locator(pltticker.LogLocator(numticks=5))\n",
    "\n",
    "log_formatter = axes.yaxis.get_major_formatter()\n",
    "def formatter(y, _):\n",
    "    return str(int(y)) if y < 100 else log_formatter(y)\n",
    "axes.yaxis.set_major_formatter(pltticker.FuncFormatter(formatter))\n",
    "\n",
    "plt.setp(axes.get_yticklabels(), position=(0.04,0))\n",
    "\n",
    "over3 = len(data_16MB[(data_16MB['error'] > 0) & (data_16MB['error'] <= 3)]) / len(data_16MB[data_16MB['error'] > 0])\n",
    "avrg_overwaste = data_16MB[data_16MB['error'] > 0]['error'].mean() * 16\n",
    "\n",
    "print(f'Overpredictions within 3 clusters of truth: {over3:.2%}')\n",
    "print(f'Average waste due to overpredictions: {avrg_overwaste}')\n",
    "\n",
    "fig.savefig('figures/prediction_errors.pdf', bbox_inches='tight', pad_inches=0)"
   ]
  },
  {
   "cell_type": "markdown",
   "metadata": {
    "pycharm": {
     "name": "#%% md\n"
    }
   },
   "source": [
    "## Prediction errors: ETL times"
   ]
  },
  {
   "cell_type": "code",
   "execution_count": null,
   "metadata": {
    "pycharm": {
     "name": "#%%\n"
    }
   },
   "outputs": [],
   "source": [
    "data = pd.read_csv('results/caching/predictions/audio.csv', sep=';')\n",
    "\n",
    "# in the raw file for results about image functions, function IDs start at 1 again, so I need to shift them to avoid conflicts with audio functions\n",
    "function_id_shift = data['function_id'].max()\n",
    "\n",
    "data_image = pd.read_csv('results/caching/predictions/image.csv', sep=';')\n",
    "data_image['function_id'] = data_image['function_id'].apply(lambda func_id: func_id + function_id_shift)\n",
    "data = data.append(data_image, ignore_index=True)\n",
    "\n",
    "# in the raw file for results about image functions, function IDs start at 1 again, so I need to shift them to avoid conflicts with audio functions\n",
    "# -1 because IDs start at 2 in the video file\n",
    "function_id_shift = data['function_id'].max() - 1\n",
    "\n",
    "data_video = pd.read_csv('results/caching/predictions/video.csv', sep=';')\n",
    "data_video['function_id'] = data_video['function_id'].apply(lambda func_id: func_id + function_id_shift)\n",
    "data = data.append(data_video, ignore_index=True)\n",
    "\n",
    "data = data.groupby('algorithm')"
   ]
  },
  {
   "cell_type": "code",
   "execution_count": null,
   "metadata": {
    "pycharm": {
     "name": "#%%\n"
    },
    "scrolled": true
   },
   "outputs": [],
   "source": [
    "mlfunc_results = {}\n",
    "for mlfunc, groupdata in data:\n",
    "    true_pos = groupdata[(groupdata['truth'] == 1) & (groupdata['prediction'] == 1)]\n",
    "    false_pos = groupdata[(groupdata['truth'] == 0) & (groupdata['prediction'] == 1)]\n",
    "    false_neg = groupdata[(groupdata['truth'] == 1) & (groupdata['prediction'] == 0)]\n",
    "    true_neg = groupdata[(groupdata['truth'] == 0) & (groupdata['prediction'] == 0)]\n",
    "\n",
    "    tp = len(true_pos)\n",
    "    fp = len(false_pos)\n",
    "    fn = len(false_neg)\n",
    "    tn = len(true_neg)\n",
    "\n",
    "    print(mlfunc)\n",
    "    print(f'TP: {tp}; FP: {fp}; FN: {fn}; TN: {tn}')\n",
    "\n",
    "    precision = tp / (tp + fp)\n",
    "    recall = tp / (tp + fn)\n",
    "    f_measure = 2 * precision * recall / (precision + recall)\n",
    "\n",
    "    print(f'Precision: {precision:.1%}; recall: {recall:.1%}; F-measure: {f_measure:.1%}')"
   ]
  },
  {
   "cell_type": "code",
   "execution_count": null,
   "metadata": {},
   "outputs": [],
   "source": []
  }
 ],
 "metadata": {
  "kernelspec": {
   "display_name": "Python 3",
   "language": "python",
   "name": "python3"
  },
  "language_info": {
   "codemirror_mode": {
    "name": "ipython",
    "version": 3
   },
   "file_extension": ".py",
   "mimetype": "text/x-python",
   "name": "python",
   "nbconvert_exporter": "python",
   "pygments_lexer": "ipython3",
   "version": "3.9.2"
  }
 },
 "nbformat": 4,
 "nbformat_minor": 1
}
